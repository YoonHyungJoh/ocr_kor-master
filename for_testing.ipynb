{
 "cells": [
  {
   "cell_type": "code",
   "execution_count": 1,
   "metadata": {},
   "outputs": [],
   "source": [
    "import torch\n",
    "\n",
    "output = !CUDA_VISIBLE_DEVICES=0 python3 deep-text-recognition-benchmark/demo.py \\\n",
    "--Transformation TPS --FeatureExtraction VGG --SequenceModeling BiLSTM --Prediction Attn \\\n",
    "--image_folder data/demo_image/ \\\n",
    "--saved_model deep-text-recognition-benchmark/saved_models/TPS-VGG-BiLSTM-Attn-Seed9998/best_accuracy.pth"
   ]
  },
  {
   "cell_type": "code",
   "execution_count": 2,
   "metadata": {},
   "outputs": [
    {
     "data": {
      "text/plain": [
       "['Traceback (most recent call last):',\n",
       " '  File \"deep-text-recognition-benchmark/demo.py\", line 5, in <module>',\n",
       " '    import torch',\n",
       " \"ModuleNotFoundError: No module named 'torch'\"]"
      ]
     },
     "execution_count": 2,
     "metadata": {},
     "output_type": "execute_result"
    }
   ],
   "source": [
    "output"
   ]
  },
  {
   "cell_type": "code",
   "execution_count": null,
   "metadata": {},
   "outputs": [],
   "source": [
    "from IPython.core.display import display, HTML\n",
    "from PIL import Image\n",
    "import base64\n",
    "import io\n",
    "import pandas as pd\n",
    "\n",
    "data = pd.DataFrame()\n",
    "for ind, row in enumerate(output[output.index('image_path               \\tpredicted_labels         \\tconfidence score')+2:]):\n",
    "  row = row.split('\\t')\n",
    "  filename = row[0].strip()\n",
    "  label = row[1].strip()\n",
    "  conf = row[2].strip()\n",
    "  img = Image.open(filename)\n",
    "  img_buffer = io.BytesIO()\n",
    "  img.save(img_buffer, format=\"PNG\")\n",
    "  imgStr = base64.b64encode(img_buffer.getvalue()).decode(\"utf-8\") \n",
    "\n",
    "  data.loc[ind, 'img'] = '<img src=\"data:image/png;base64,{0:s}\">'.format(imgStr)\n",
    "  data.loc[ind, 'id'] = filename\n",
    "  data.loc[ind, 'label'] = label\n",
    "  data.loc[ind, 'conf'] = conf\n",
    "\n",
    "html_all = data.to_html(escape=False)\n",
    "display(HTML(html_all))"
   ]
  }
 ],
 "metadata": {
  "kernelspec": {
   "display_name": "PyTorch",
   "language": "python",
   "name": "pytorch"
  },
  "language_info": {
   "codemirror_mode": {
    "name": "ipython",
    "version": 3
   },
   "file_extension": ".py",
   "mimetype": "text/x-python",
   "name": "python",
   "nbconvert_exporter": "python",
   "pygments_lexer": "ipython3",
   "version": "3.8.5"
  }
 },
 "nbformat": 4,
 "nbformat_minor": 4
}
